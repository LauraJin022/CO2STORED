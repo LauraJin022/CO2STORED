{
 "cells": [
  {
   "cell_type": "code",
   "execution_count": 9,
   "id": "08224790",
   "metadata": {},
   "outputs": [
    {
     "name": "stdout",
     "output_type": "stream",
     "text": [
      "文件已保存至: C:/Users/Laura/OneDrive - HKUST (Guangzhou)/桌面/geological storage/pressure_splits_70_30.xlsx\n"
     ]
    }
   ],
   "source": [
    "import pandas as pd\n",
    "from sklearn.model_selection import train_test_split\n",
    "from sklearn.preprocessing import MinMaxScaler\n",
    "\n",
    "# 加载数据集\n",
    "file_path = 'C:/Users/Laura/OneDrive - HKUST (Guangzhou)/桌面/geological storage/pressure_all_wo_bunter.xlsx'  # 更新路径\n",
    "dataset = pd.read_excel(file_path)\n",
    "\n",
    "# 假设第一列是单元ID，不应在模型中考虑\n",
    "dataset = dataset.iloc[:, 1:]  # 跳过第一列\n",
    "\n",
    "# 确保所有数据为浮点数\n",
    "values = dataset.values.astype('float32')\n",
    "\n",
    "# 特征归一化\n",
    "scaler = MinMaxScaler(feature_range=(0, 1))\n",
    "scaled_values = scaler.fit_transform(values)\n",
    "\n",
    "# 将数据集拆分为特征 (X) 和目标 (y)\n",
    "X = scaled_values[:, :-1]  # 假设最后一列是目标\n",
    "y = scaled_values[:, -1]\n",
    "\n",
    "# 将数据集拆分为70%训练集和30%测试集\n",
    "X_train, X_test, y_train, y_test = train_test_split(X, y, test_size=0.3, random_state=42)\n",
    "\n",
    "# 创建每个拆分的DataFrame\n",
    "data_splits = {\n",
    "    'X_train': X_train, 'y_train': y_train,\n",
    "    'X_test': X_test, 'y_test': y_test\n",
    "}\n",
    "\n",
    "# 保存到Excel\n",
    "with pd.ExcelWriter('C:/Users/Laura/OneDrive - HKUST (Guangzhou)/桌面/geological storage/pressure_splits_70_30.xlsx') as writer:\n",
    "    pd.DataFrame(data_splits['X_train']).to_excel(writer, sheet_name='X_train', index=False)\n",
    "    pd.DataFrame(data_splits['y_train']).to_excel(writer, sheet_name='y_train', index=False)\n",
    "    pd.DataFrame(data_splits['X_test']).to_excel(writer, sheet_name='X_test', index=False)\n",
    "    pd.DataFrame(data_splits['y_test']).to_excel(writer, sheet_name='y_test', index=False)\n",
    "\n",
    "print(\"文件已保存至: C:/Users/Laura/OneDrive - HKUST (Guangzhou)/桌面/geological storage/pressure_splits_70_30.xlsx\")\n"
   ]
  },
  {
   "cell_type": "code",
   "execution_count": 3,
   "id": "78ad5218",
   "metadata": {},
   "outputs": [
    {
     "name": "stdout",
     "output_type": "stream",
     "text": [
      "文件已保存至: C:/Users/Laura/OneDrive - HKUST (Guangzhou)/桌面/geological storage/pressure_splits_75_25.xlsx\n"
     ]
    }
   ],
   "source": [
    "import pandas as pd\n",
    "from sklearn.model_selection import train_test_split\n",
    "from sklearn.preprocessing import MinMaxScaler\n",
    "\n",
    "# 加载数据集\n",
    "file_path = 'C:/Users/Laura/OneDrive - HKUST (Guangzhou)/桌面/geological storage/pressure_all_wo_bunter.xlsx'  # 更新路径\n",
    "dataset = pd.read_excel(file_path)\n",
    "\n",
    "# 假设第一列是单元ID，不应在模型中考虑\n",
    "dataset = dataset.iloc[:, 1:]  # 跳过第一列\n",
    "\n",
    "# 确保所有数据为浮点数\n",
    "values = dataset.values.astype('float32')\n",
    "\n",
    "# 特征归一化\n",
    "scaler = MinMaxScaler(feature_range=(0, 1))\n",
    "scaled_values = scaler.fit_transform(values)\n",
    "\n",
    "# 将数据集拆分为特征 (X) 和目标 (y)\n",
    "X = scaled_values[:, :-1]  # 假设最后一列是目标\n",
    "y = scaled_values[:, -1]\n",
    "\n",
    "# 将数据集拆分为75%训练集和25%测试集\n",
    "X_train, X_test, y_train, y_test = train_test_split(X, y, test_size=0.25, random_state=42)\n",
    "\n",
    "# 创建每个拆分的DataFrame\n",
    "data_splits = {\n",
    "    'X_train': X_train, 'y_train': y_train,\n",
    "    'X_test': X_test, 'y_test': y_test\n",
    "}\n",
    "\n",
    "# 保存到Excel\n",
    "with pd.ExcelWriter('C:/Users/Laura/OneDrive - HKUST (Guangzhou)/桌面/geological storage/pressure_splits_75_25.xlsx') as writer:\n",
    "    pd.DataFrame(data_splits['X_train']).to_excel(writer, sheet_name='X_train', index=False)\n",
    "    pd.DataFrame(data_splits['y_train']).to_excel(writer, sheet_name='y_train', index=False)\n",
    "    pd.DataFrame(data_splits['X_test']).to_excel(writer, sheet_name='X_test', index=False)\n",
    "    pd.DataFrame(data_splits['y_test']).to_excel(writer, sheet_name='y_test', index=False)\n",
    "\n",
    "print(\"文件已保存至: C:/Users/Laura/OneDrive - HKUST (Guangzhou)/桌面/geological storage/pressure_splits_75_25.xlsx\")\n"
   ]
  },
  {
   "cell_type": "code",
   "execution_count": 4,
   "id": "6ada8c8f",
   "metadata": {},
   "outputs": [
    {
     "name": "stdout",
     "output_type": "stream",
     "text": [
      "文件已保存至: C:/Users/Laura/OneDrive - HKUST (Guangzhou)/桌面/geological storage/pressure_splits_80_20.xlsx\n"
     ]
    }
   ],
   "source": [
    "import pandas as pd\n",
    "from sklearn.model_selection import train_test_split\n",
    "from sklearn.preprocessing import MinMaxScaler\n",
    "\n",
    "# 加载数据集\n",
    "file_path = 'C:/Users/Laura/OneDrive - HKUST (Guangzhou)/桌面/geological storage/pressure_all_wo_bunter.xlsx'  # 更新路径\n",
    "dataset = pd.read_excel(file_path)\n",
    "\n",
    "# 假设第一列是单元ID，不应在模型中考虑\n",
    "dataset = dataset.iloc[:, 1:]  # 跳过第一列\n",
    "\n",
    "# 确保所有数据为浮点数\n",
    "values = dataset.values.astype('float32')\n",
    "\n",
    "# 特征归一化\n",
    "scaler = MinMaxScaler(feature_range=(0, 1))\n",
    "scaled_values = scaler.fit_transform(values)\n",
    "\n",
    "# 将数据集拆分为特征 (X) 和目标 (y)\n",
    "X = scaled_values[:, :-1]  # 假设最后一列是目标\n",
    "y = scaled_values[:, -1]\n",
    "\n",
    "# 将数据集拆分为80%训练集和20%测试集\n",
    "X_train, X_test, y_train, y_test = train_test_split(X, y, test_size=0.2, random_state=42)\n",
    "\n",
    "# 创建每个拆分的DataFrame\n",
    "data_splits = {\n",
    "    'X_train': X_train, 'y_train': y_train,\n",
    "    'X_test': X_test, 'y_test': y_test\n",
    "}\n",
    "\n",
    "# 保存到Excel\n",
    "with pd.ExcelWriter('C:/Users/Laura/OneDrive - HKUST (Guangzhou)/桌面/geological storage/pressure_splits_80_20.xlsx') as writer:\n",
    "    pd.DataFrame(data_splits['X_train']).to_excel(writer, sheet_name='X_train', index=False)\n",
    "    pd.DataFrame(data_splits['y_train']).to_excel(writer, sheet_name='y_train', index=False)\n",
    "    pd.DataFrame(data_splits['X_test']).to_excel(writer, sheet_name='X_test', index=False)\n",
    "    pd.DataFrame(data_splits['y_test']).to_excel(writer, sheet_name='y_test', index=False)\n",
    "\n",
    "print(\"文件已保存至: C:/Users/Laura/OneDrive - HKUST (Guangzhou)/桌面/geological storage/pressure_splits_80_20.xlsx\")\n"
   ]
  },
  {
   "cell_type": "code",
   "execution_count": 5,
   "id": "96259af7",
   "metadata": {},
   "outputs": [
    {
     "name": "stdout",
     "output_type": "stream",
     "text": [
      "文件已保存至: C:/Users/Laura/OneDrive - HKUST (Guangzhou)/桌面/geological storage/capacity_splits_70_30.xlsx\n"
     ]
    }
   ],
   "source": [
    "import pandas as pd\n",
    "from sklearn.model_selection import train_test_split\n",
    "from sklearn.preprocessing import MinMaxScaler\n",
    "\n",
    "# 加载数据集\n",
    "file_path = 'C:/Users/Laura/OneDrive - HKUST (Guangzhou)/桌面/geological storage/capacity_wo_Bunter.xlsx'  # 更新路径\n",
    "dataset = pd.read_excel(file_path)\n",
    "\n",
    "# 假设第一列是单元ID，不应在模型中考虑\n",
    "dataset = dataset.iloc[:, 1:]  # 跳过第一列\n",
    "\n",
    "# 确保所有数据为浮点数\n",
    "values = dataset.values.astype('float32')\n",
    "\n",
    "# 特征归一化\n",
    "scaler = MinMaxScaler(feature_range=(0, 1))\n",
    "scaled_values = scaler.fit_transform(values)\n",
    "\n",
    "# 将数据集拆分为特征 (X) 和目标 (y)\n",
    "X = scaled_values[:, :-1]  # 假设最后一列是目标\n",
    "y = scaled_values[:, -1]\n",
    "\n",
    "# 将数据集拆分为70%训练集和30%测试集\n",
    "X_train, X_test, y_train, y_test = train_test_split(X, y, test_size=0.3, random_state=42)\n",
    "\n",
    "# 创建每个拆分的DataFrame\n",
    "data_splits = {\n",
    "    'X_train': X_train, 'y_train': y_train,\n",
    "    'X_test': X_test, 'y_test': y_test\n",
    "}\n",
    "\n",
    "# 保存到Excel\n",
    "with pd.ExcelWriter('C:/Users/Laura/OneDrive - HKUST (Guangzhou)/桌面/geological storage/capacity_splits_70_30.xlsx') as writer:\n",
    "    pd.DataFrame(data_splits['X_train']).to_excel(writer, sheet_name='X_train', index=False)\n",
    "    pd.DataFrame(data_splits['y_train']).to_excel(writer, sheet_name='y_train', index=False)\n",
    "    pd.DataFrame(data_splits['X_test']).to_excel(writer, sheet_name='X_test', index=False)\n",
    "    pd.DataFrame(data_splits['y_test']).to_excel(writer, sheet_name='y_test', index=False)\n",
    "\n",
    "print(\"文件已保存至: C:/Users/Laura/OneDrive - HKUST (Guangzhou)/桌面/geological storage/capacity_splits_70_30.xlsx\")\n"
   ]
  },
  {
   "cell_type": "code",
   "execution_count": 6,
   "id": "633b04dc",
   "metadata": {},
   "outputs": [
    {
     "name": "stdout",
     "output_type": "stream",
     "text": [
      "文件已保存至: C:/Users/Laura/OneDrive - HKUST (Guangzhou)/桌面/geological storage/capacity_splits_75_25.xlsx\n"
     ]
    }
   ],
   "source": [
    "import pandas as pd\n",
    "from sklearn.model_selection import train_test_split\n",
    "from sklearn.preprocessing import MinMaxScaler\n",
    "\n",
    "# 加载数据集\n",
    "file_path = 'C:/Users/Laura/OneDrive - HKUST (Guangzhou)/桌面/geological storage/capacity_wo_Bunter.xlsx'  # 更新路径\n",
    "dataset = pd.read_excel(file_path)\n",
    "\n",
    "# 假设第一列是单元ID，不应在模型中考虑\n",
    "dataset = dataset.iloc[:, 1:]  # 跳过第一列\n",
    "\n",
    "# 确保所有数据为浮点数\n",
    "values = dataset.values.astype('float32')\n",
    "\n",
    "# 特征归一化\n",
    "scaler = MinMaxScaler(feature_range=(0, 1))\n",
    "scaled_values = scaler.fit_transform(values)\n",
    "\n",
    "# 将数据集拆分为特征 (X) 和目标 (y)\n",
    "X = scaled_values[:, :-1]  # 假设最后一列是目标\n",
    "y = scaled_values[:, -1]\n",
    "\n",
    "# 将数据集拆分为75%训练集和25%测试集\n",
    "X_train, X_test, y_train, y_test = train_test_split(X, y, test_size=0.25, random_state=42)\n",
    "\n",
    "# 创建每个拆分的DataFrame\n",
    "data_splits = {\n",
    "    'X_train': X_train, 'y_train': y_train,\n",
    "    'X_test': X_test, 'y_test': y_test\n",
    "}\n",
    "\n",
    "# 保存到Excel\n",
    "with pd.ExcelWriter('C:/Users/Laura/OneDrive - HKUST (Guangzhou)/桌面/geological storage/capacity_splits_75_25.xlsx') as writer:\n",
    "    pd.DataFrame(data_splits['X_train']).to_excel(writer, sheet_name='X_train', index=False)\n",
    "    pd.DataFrame(data_splits['y_train']).to_excel(writer, sheet_name='y_train', index=False)\n",
    "    pd.DataFrame(data_splits['X_test']).to_excel(writer, sheet_name='X_test', index=False)\n",
    "    pd.DataFrame(data_splits['y_test']).to_excel(writer, sheet_name='y_test', index=False)\n",
    "\n",
    "print(\"文件已保存至: C:/Users/Laura/OneDrive - HKUST (Guangzhou)/桌面/geological storage/capacity_splits_75_25.xlsx\")\n"
   ]
  },
  {
   "cell_type": "code",
   "execution_count": 7,
   "id": "46cd04ca",
   "metadata": {},
   "outputs": [
    {
     "name": "stdout",
     "output_type": "stream",
     "text": [
      "文件已保存至: C:/Users/Laura/OneDrive - HKUST (Guangzhou)/桌面/geological storage/capacity_splits_80_20.xlsx\n"
     ]
    }
   ],
   "source": [
    "import pandas as pd\n",
    "from sklearn.model_selection import train_test_split\n",
    "from sklearn.preprocessing import MinMaxScaler\n",
    "\n",
    "# 加载数据集\n",
    "file_path = 'C:/Users/Laura/OneDrive - HKUST (Guangzhou)/桌面/geological storage/capacity_wo_Bunter.xlsx'  # 更新路径\n",
    "dataset = pd.read_excel(file_path)\n",
    "\n",
    "# 假设第一列是单元ID，不应在模型中考虑\n",
    "dataset = dataset.iloc[:, 1:]  # 跳过第一列\n",
    "\n",
    "# 确保所有数据为浮点数\n",
    "values = dataset.values.astype('float32')\n",
    "\n",
    "# 特征归一化\n",
    "scaler = MinMaxScaler(feature_range=(0, 1))\n",
    "scaled_values = scaler.fit_transform(values)\n",
    "\n",
    "# 将数据集拆分为特征 (X) 和目标 (y)\n",
    "X = scaled_values[:, :-1]  # 假设最后一列是目标\n",
    "y = scaled_values[:, -1]\n",
    "\n",
    "# 将数据集拆分为70%训练集和30%测试集\n",
    "X_train, X_test, y_train, y_test = train_test_split(X, y, test_size=0.2, random_state=42)\n",
    "\n",
    "# 创建每个拆分的DataFrame\n",
    "data_splits = {\n",
    "    'X_train': X_train, 'y_train': y_train,\n",
    "    'X_test': X_test, 'y_test': y_test\n",
    "}\n",
    "\n",
    "# 保存到Excel\n",
    "with pd.ExcelWriter('C:/Users/Laura/OneDrive - HKUST (Guangzhou)/桌面/geological storage/capacity_splits_80_20.xlsx') as writer:\n",
    "    pd.DataFrame(data_splits['X_train']).to_excel(writer, sheet_name='X_train', index=False)\n",
    "    pd.DataFrame(data_splits['y_train']).to_excel(writer, sheet_name='y_train', index=False)\n",
    "    pd.DataFrame(data_splits['X_test']).to_excel(writer, sheet_name='X_test', index=False)\n",
    "    pd.DataFrame(data_splits['y_test']).to_excel(writer, sheet_name='y_test', index=False)\n",
    "\n",
    "print(\"文件已保存至: C:/Users/Laura/OneDrive - HKUST (Guangzhou)/桌面/geological storage/capacity_splits_80_20.xlsx\")\n"
   ]
  },
  {
   "cell_type": "code",
   "execution_count": null,
   "id": "29899313",
   "metadata": {},
   "outputs": [],
   "source": []
  }
 ],
 "metadata": {
  "kernelspec": {
   "display_name": "Python 3 (ipykernel)",
   "language": "python",
   "name": "python3"
  },
  "language_info": {
   "codemirror_mode": {
    "name": "ipython",
    "version": 3
   },
   "file_extension": ".py",
   "mimetype": "text/x-python",
   "name": "python",
   "nbconvert_exporter": "python",
   "pygments_lexer": "ipython3",
   "version": "3.9.13"
  }
 },
 "nbformat": 4,
 "nbformat_minor": 5
}
